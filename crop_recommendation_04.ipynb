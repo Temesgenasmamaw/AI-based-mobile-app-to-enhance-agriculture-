{
  "nbformat": 4,
  "nbformat_minor": 0,
  "metadata": {
    "colab": {
      "provenance": [],
      "mount_file_id": "1XUzLEwQCbtQBMMs7bXat8Zu5qMWfp4Sg",
      "authorship_tag": "ABX9TyOxzejqL8l0dtZAXVablZYh",
      "include_colab_link": true
    },
    "kernelspec": {
      "name": "python3",
      "display_name": "Python 3"
    },
    "language_info": {
      "name": "python"
    }
  },
  "cells": [
    {
      "cell_type": "markdown",
      "metadata": {
        "id": "view-in-github",
        "colab_type": "text"
      },
      "source": [
        "<a href=\"https://colab.research.google.com/github/Temesgenasmamaw/AI-based-mobile-app-to-enhance-agriculture-/blob/main/crop_recommendation_04.ipynb\" target=\"_parent\"><img src=\"https://colab.research.google.com/assets/colab-badge.svg\" alt=\"Open In Colab\"/></a>"
      ]
    },
    {
      "cell_type": "code",
      "execution_count": null,
      "metadata": {
        "id": "QkDJURQWWqTb"
      },
      "outputs": [],
      "source": [
        "import pandas as pd\n",
        "import numpy as np\n",
        "import matplotlib.pyplot as plt\n",
        "import seaborn as sns\n",
        "from sklearn.svm import SVC\n",
        "from sklearn.linear_model import LogisticRegression\n",
        "from sklearn.naive_bayes import GaussianNB\n",
        "from sklearn.linear_model import Lasso\n",
        "from sklearn.naive_bayes import MultinomialNB\n",
        "from sklearn.tree import DecisionTreeClassifier\n",
        "from sklearn.tree import DecisionTreeRegressor\n",
        "from sklearn.ensemble import RandomForestClassifier\n",
        "from sklearn.preprocessing import StandardScaler\n",
        "from sklearn.model_selection import StratifiedKFold\n",
        "from sklearn.metrics import classification_report\n",
        "from sklearn.neighbors import KNeighborsClassifier\n",
        "from sklearn.metrics import accuracy_score\n",
        "from sklearn.model_selection import train_test_split\n",
        "import warnings\n",
        "warnings.filterwarnings('ignore')\n",
        "from sklearn.model_selection import cross_val_score,StratifiedKFold,KFold"
      ]
    },
    {
      "cell_type": "code",
      "source": [
        "df = pd.read_csv('/content/drive/MyDrive/final year project/dataset/crop_dataset_c04.csv')\n",
        "df"
      ],
      "metadata": {
        "colab": {
          "base_uri": "https://localhost:8080/",
          "height": 424
        },
        "id": "CDBjoJc-Xjj3",
        "outputId": "38cac0e9-dfb5-437c-e4e1-6d723da10cad"
      },
      "execution_count": null,
      "outputs": [
        {
          "output_type": "execute_result",
          "data": {
            "text/plain": [
              "            ph    rain fall     altitude  temprature   label\n",
              "0     6.831501   995.880320  2657.983736   23.219408   wheat\n",
              "1     6.779222   930.632865  2520.783140   21.372756   wheat\n",
              "2     6.071859   971.850175  2261.388116   16.913500   wheat\n",
              "3     7.291239   870.957942  2756.669357   23.742470   wheat\n",
              "4     5.986033   917.822347  1850.515011   15.196118   wheat\n",
              "...        ...          ...          ...         ...     ...\n",
              "1194  5.069010  1054.897876  2100.064506   10.622032  Bokolo\n",
              "1195  6.371700  1232.563360   682.739484   21.593218  Bokolo\n",
              "1196  6.162931  1276.104256  1318.543324   21.920742  Bokolo\n",
              "1197  5.315169  1074.199430  2359.741849   28.595925  Bokolo\n",
              "1198  5.163241  1314.174725  1429.621495   25.558628  Bokolo\n",
              "\n",
              "[1199 rows x 5 columns]"
            ],
            "text/html": [
              "\n",
              "  <div id=\"df-f2627f5a-f197-4e82-a97d-df4b4af4ee00\">\n",
              "    <div class=\"colab-df-container\">\n",
              "      <div>\n",
              "<style scoped>\n",
              "    .dataframe tbody tr th:only-of-type {\n",
              "        vertical-align: middle;\n",
              "    }\n",
              "\n",
              "    .dataframe tbody tr th {\n",
              "        vertical-align: top;\n",
              "    }\n",
              "\n",
              "    .dataframe thead th {\n",
              "        text-align: right;\n",
              "    }\n",
              "</style>\n",
              "<table border=\"1\" class=\"dataframe\">\n",
              "  <thead>\n",
              "    <tr style=\"text-align: right;\">\n",
              "      <th></th>\n",
              "      <th>ph</th>\n",
              "      <th>rain fall</th>\n",
              "      <th>altitude</th>\n",
              "      <th>temprature</th>\n",
              "      <th>label</th>\n",
              "    </tr>\n",
              "  </thead>\n",
              "  <tbody>\n",
              "    <tr>\n",
              "      <th>0</th>\n",
              "      <td>6.831501</td>\n",
              "      <td>995.880320</td>\n",
              "      <td>2657.983736</td>\n",
              "      <td>23.219408</td>\n",
              "      <td>wheat</td>\n",
              "    </tr>\n",
              "    <tr>\n",
              "      <th>1</th>\n",
              "      <td>6.779222</td>\n",
              "      <td>930.632865</td>\n",
              "      <td>2520.783140</td>\n",
              "      <td>21.372756</td>\n",
              "      <td>wheat</td>\n",
              "    </tr>\n",
              "    <tr>\n",
              "      <th>2</th>\n",
              "      <td>6.071859</td>\n",
              "      <td>971.850175</td>\n",
              "      <td>2261.388116</td>\n",
              "      <td>16.913500</td>\n",
              "      <td>wheat</td>\n",
              "    </tr>\n",
              "    <tr>\n",
              "      <th>3</th>\n",
              "      <td>7.291239</td>\n",
              "      <td>870.957942</td>\n",
              "      <td>2756.669357</td>\n",
              "      <td>23.742470</td>\n",
              "      <td>wheat</td>\n",
              "    </tr>\n",
              "    <tr>\n",
              "      <th>4</th>\n",
              "      <td>5.986033</td>\n",
              "      <td>917.822347</td>\n",
              "      <td>1850.515011</td>\n",
              "      <td>15.196118</td>\n",
              "      <td>wheat</td>\n",
              "    </tr>\n",
              "    <tr>\n",
              "      <th>...</th>\n",
              "      <td>...</td>\n",
              "      <td>...</td>\n",
              "      <td>...</td>\n",
              "      <td>...</td>\n",
              "      <td>...</td>\n",
              "    </tr>\n",
              "    <tr>\n",
              "      <th>1194</th>\n",
              "      <td>5.069010</td>\n",
              "      <td>1054.897876</td>\n",
              "      <td>2100.064506</td>\n",
              "      <td>10.622032</td>\n",
              "      <td>Bokolo</td>\n",
              "    </tr>\n",
              "    <tr>\n",
              "      <th>1195</th>\n",
              "      <td>6.371700</td>\n",
              "      <td>1232.563360</td>\n",
              "      <td>682.739484</td>\n",
              "      <td>21.593218</td>\n",
              "      <td>Bokolo</td>\n",
              "    </tr>\n",
              "    <tr>\n",
              "      <th>1196</th>\n",
              "      <td>6.162931</td>\n",
              "      <td>1276.104256</td>\n",
              "      <td>1318.543324</td>\n",
              "      <td>21.920742</td>\n",
              "      <td>Bokolo</td>\n",
              "    </tr>\n",
              "    <tr>\n",
              "      <th>1197</th>\n",
              "      <td>5.315169</td>\n",
              "      <td>1074.199430</td>\n",
              "      <td>2359.741849</td>\n",
              "      <td>28.595925</td>\n",
              "      <td>Bokolo</td>\n",
              "    </tr>\n",
              "    <tr>\n",
              "      <th>1198</th>\n",
              "      <td>5.163241</td>\n",
              "      <td>1314.174725</td>\n",
              "      <td>1429.621495</td>\n",
              "      <td>25.558628</td>\n",
              "      <td>Bokolo</td>\n",
              "    </tr>\n",
              "  </tbody>\n",
              "</table>\n",
              "<p>1199 rows × 5 columns</p>\n",
              "</div>\n",
              "      <button class=\"colab-df-convert\" onclick=\"convertToInteractive('df-f2627f5a-f197-4e82-a97d-df4b4af4ee00')\"\n",
              "              title=\"Convert this dataframe to an interactive table.\"\n",
              "              style=\"display:none;\">\n",
              "        \n",
              "  <svg xmlns=\"http://www.w3.org/2000/svg\" height=\"24px\"viewBox=\"0 0 24 24\"\n",
              "       width=\"24px\">\n",
              "    <path d=\"M0 0h24v24H0V0z\" fill=\"none\"/>\n",
              "    <path d=\"M18.56 5.44l.94 2.06.94-2.06 2.06-.94-2.06-.94-.94-2.06-.94 2.06-2.06.94zm-11 1L8.5 8.5l.94-2.06 2.06-.94-2.06-.94L8.5 2.5l-.94 2.06-2.06.94zm10 10l.94 2.06.94-2.06 2.06-.94-2.06-.94-.94-2.06-.94 2.06-2.06.94z\"/><path d=\"M17.41 7.96l-1.37-1.37c-.4-.4-.92-.59-1.43-.59-.52 0-1.04.2-1.43.59L10.3 9.45l-7.72 7.72c-.78.78-.78 2.05 0 2.83L4 21.41c.39.39.9.59 1.41.59.51 0 1.02-.2 1.41-.59l7.78-7.78 2.81-2.81c.8-.78.8-2.07 0-2.86zM5.41 20L4 18.59l7.72-7.72 1.47 1.35L5.41 20z\"/>\n",
              "  </svg>\n",
              "      </button>\n",
              "      \n",
              "  <style>\n",
              "    .colab-df-container {\n",
              "      display:flex;\n",
              "      flex-wrap:wrap;\n",
              "      gap: 12px;\n",
              "    }\n",
              "\n",
              "    .colab-df-convert {\n",
              "      background-color: #E8F0FE;\n",
              "      border: none;\n",
              "      border-radius: 50%;\n",
              "      cursor: pointer;\n",
              "      display: none;\n",
              "      fill: #1967D2;\n",
              "      height: 32px;\n",
              "      padding: 0 0 0 0;\n",
              "      width: 32px;\n",
              "    }\n",
              "\n",
              "    .colab-df-convert:hover {\n",
              "      background-color: #E2EBFA;\n",
              "      box-shadow: 0px 1px 2px rgba(60, 64, 67, 0.3), 0px 1px 3px 1px rgba(60, 64, 67, 0.15);\n",
              "      fill: #174EA6;\n",
              "    }\n",
              "\n",
              "    [theme=dark] .colab-df-convert {\n",
              "      background-color: #3B4455;\n",
              "      fill: #D2E3FC;\n",
              "    }\n",
              "\n",
              "    [theme=dark] .colab-df-convert:hover {\n",
              "      background-color: #434B5C;\n",
              "      box-shadow: 0px 1px 3px 1px rgba(0, 0, 0, 0.15);\n",
              "      filter: drop-shadow(0px 1px 2px rgba(0, 0, 0, 0.3));\n",
              "      fill: #FFFFFF;\n",
              "    }\n",
              "  </style>\n",
              "\n",
              "      <script>\n",
              "        const buttonEl =\n",
              "          document.querySelector('#df-f2627f5a-f197-4e82-a97d-df4b4af4ee00 button.colab-df-convert');\n",
              "        buttonEl.style.display =\n",
              "          google.colab.kernel.accessAllowed ? 'block' : 'none';\n",
              "\n",
              "        async function convertToInteractive(key) {\n",
              "          const element = document.querySelector('#df-f2627f5a-f197-4e82-a97d-df4b4af4ee00');\n",
              "          const dataTable =\n",
              "            await google.colab.kernel.invokeFunction('convertToInteractive',\n",
              "                                                     [key], {});\n",
              "          if (!dataTable) return;\n",
              "\n",
              "          const docLinkHtml = 'Like what you see? Visit the ' +\n",
              "            '<a target=\"_blank\" href=https://colab.research.google.com/notebooks/data_table.ipynb>data table notebook</a>'\n",
              "            + ' to learn more about interactive tables.';\n",
              "          element.innerHTML = '';\n",
              "          dataTable['output_type'] = 'display_data';\n",
              "          await google.colab.output.renderOutput(dataTable, element);\n",
              "          const docLink = document.createElement('div');\n",
              "          docLink.innerHTML = docLinkHtml;\n",
              "          element.appendChild(docLink);\n",
              "        }\n",
              "      </script>\n",
              "    </div>\n",
              "  </div>\n",
              "  "
            ]
          },
          "metadata": {},
          "execution_count": 3
        }
      ]
    },
    {
      "cell_type": "code",
      "source": [
        "df.shape"
      ],
      "metadata": {
        "colab": {
          "base_uri": "https://localhost:8080/"
        },
        "id": "lUWvWa66ZT5g",
        "outputId": "97f11b7f-8438-4f7c-eea8-347e4b2915fb"
      },
      "execution_count": null,
      "outputs": [
        {
          "output_type": "execute_result",
          "data": {
            "text/plain": [
              "(1199, 5)"
            ]
          },
          "metadata": {},
          "execution_count": 6
        }
      ]
    },
    {
      "cell_type": "code",
      "source": [
        "df.isnull().sum()"
      ],
      "metadata": {
        "colab": {
          "base_uri": "https://localhost:8080/"
        },
        "id": "VfnpaMU5YwWv",
        "outputId": "bf79957a-b7ac-4481-92cf-8668fad41eaa"
      },
      "execution_count": null,
      "outputs": [
        {
          "output_type": "execute_result",
          "data": {
            "text/plain": [
              "ph            0\n",
              "rain fall     0\n",
              "altitude      0\n",
              "temprature    0\n",
              "label         0\n",
              "dtype: int64"
            ]
          },
          "metadata": {},
          "execution_count": 4
        }
      ]
    },
    {
      "cell_type": "code",
      "source": [
        "df['label'].value_counts()"
      ],
      "metadata": {
        "colab": {
          "base_uri": "https://localhost:8080/"
        },
        "id": "LYmE1tebY7b7",
        "outputId": "98038538-c497-4d44-8ec9-a55f3c1a00f7"
      },
      "execution_count": null,
      "outputs": [
        {
          "output_type": "execute_result",
          "data": {
            "text/plain": [
              "Teff      300\n",
              "Gebs      300\n",
              "Bokolo    300\n",
              "wheat     299\n",
              "Name: label, dtype: int64"
            ]
          },
          "metadata": {},
          "execution_count": 5
        }
      ]
    },
    {
      "cell_type": "code",
      "source": [
        "labels=df['label'].unique()\n",
        "print(labels)"
      ],
      "metadata": {
        "colab": {
          "base_uri": "https://localhost:8080/"
        },
        "id": "VQkHHF7sZti8",
        "outputId": "bf4fb936-528d-4403-eb18-0a6661e20f0d"
      },
      "execution_count": null,
      "outputs": [
        {
          "output_type": "stream",
          "name": "stdout",
          "text": [
            "['wheat' 'Teff' 'Gebs' 'Bokolo']\n"
          ]
        }
      ]
    },
    {
      "cell_type": "code",
      "source": [
        "# sns.heatmap(df.corr(),annot=True)"
      ],
      "metadata": {
        "id": "fNHdz8WwZL67"
      },
      "execution_count": null,
      "outputs": []
    },
    {
      "cell_type": "code",
      "source": [
        "features = df[['ph',\t'rain fall',\t'altitude',\t'temprature']]\n",
        "target = df['label']\n",
        "\n",
        "labels = df['label']"
      ],
      "metadata": {
        "id": "3_cWMohHZn37"
      },
      "execution_count": null,
      "outputs": []
    },
    {
      "cell_type": "code",
      "source": [
        "df.describe()"
      ],
      "metadata": {
        "colab": {
          "base_uri": "https://localhost:8080/",
          "height": 300
        },
        "id": "J0WaICYOaHH0",
        "outputId": "18bd3887-9941-438a-f508-2a7f174744dc"
      },
      "execution_count": null,
      "outputs": [
        {
          "output_type": "execute_result",
          "data": {
            "text/plain": [
              "                ph    rain fall     altitude   temprature\n",
              "count  1199.000000  1199.000000  1199.000000  1199.000000\n",
              "mean      6.164976   930.126799  2126.885398    18.351324\n",
              "std       0.917287   195.390526   547.906251     6.263276\n",
              "min       4.502880   501.161049   511.531419     5.022656\n",
              "25%       5.332963   826.121898  1850.346543    13.815553\n",
              "50%       6.260777   917.971912  2240.586610    17.870172\n",
              "75%       6.929562  1037.583592  2505.646070    22.580239\n",
              "max       7.795996  1497.108850  2998.884777    34.974242"
            ],
            "text/html": [
              "\n",
              "  <div id=\"df-acd1606c-dc60-456a-8ad7-cd2cbfb5c03a\">\n",
              "    <div class=\"colab-df-container\">\n",
              "      <div>\n",
              "<style scoped>\n",
              "    .dataframe tbody tr th:only-of-type {\n",
              "        vertical-align: middle;\n",
              "    }\n",
              "\n",
              "    .dataframe tbody tr th {\n",
              "        vertical-align: top;\n",
              "    }\n",
              "\n",
              "    .dataframe thead th {\n",
              "        text-align: right;\n",
              "    }\n",
              "</style>\n",
              "<table border=\"1\" class=\"dataframe\">\n",
              "  <thead>\n",
              "    <tr style=\"text-align: right;\">\n",
              "      <th></th>\n",
              "      <th>ph</th>\n",
              "      <th>rain fall</th>\n",
              "      <th>altitude</th>\n",
              "      <th>temprature</th>\n",
              "    </tr>\n",
              "  </thead>\n",
              "  <tbody>\n",
              "    <tr>\n",
              "      <th>count</th>\n",
              "      <td>1199.000000</td>\n",
              "      <td>1199.000000</td>\n",
              "      <td>1199.000000</td>\n",
              "      <td>1199.000000</td>\n",
              "    </tr>\n",
              "    <tr>\n",
              "      <th>mean</th>\n",
              "      <td>6.164976</td>\n",
              "      <td>930.126799</td>\n",
              "      <td>2126.885398</td>\n",
              "      <td>18.351324</td>\n",
              "    </tr>\n",
              "    <tr>\n",
              "      <th>std</th>\n",
              "      <td>0.917287</td>\n",
              "      <td>195.390526</td>\n",
              "      <td>547.906251</td>\n",
              "      <td>6.263276</td>\n",
              "    </tr>\n",
              "    <tr>\n",
              "      <th>min</th>\n",
              "      <td>4.502880</td>\n",
              "      <td>501.161049</td>\n",
              "      <td>511.531419</td>\n",
              "      <td>5.022656</td>\n",
              "    </tr>\n",
              "    <tr>\n",
              "      <th>25%</th>\n",
              "      <td>5.332963</td>\n",
              "      <td>826.121898</td>\n",
              "      <td>1850.346543</td>\n",
              "      <td>13.815553</td>\n",
              "    </tr>\n",
              "    <tr>\n",
              "      <th>50%</th>\n",
              "      <td>6.260777</td>\n",
              "      <td>917.971912</td>\n",
              "      <td>2240.586610</td>\n",
              "      <td>17.870172</td>\n",
              "    </tr>\n",
              "    <tr>\n",
              "      <th>75%</th>\n",
              "      <td>6.929562</td>\n",
              "      <td>1037.583592</td>\n",
              "      <td>2505.646070</td>\n",
              "      <td>22.580239</td>\n",
              "    </tr>\n",
              "    <tr>\n",
              "      <th>max</th>\n",
              "      <td>7.795996</td>\n",
              "      <td>1497.108850</td>\n",
              "      <td>2998.884777</td>\n",
              "      <td>34.974242</td>\n",
              "    </tr>\n",
              "  </tbody>\n",
              "</table>\n",
              "</div>\n",
              "      <button class=\"colab-df-convert\" onclick=\"convertToInteractive('df-acd1606c-dc60-456a-8ad7-cd2cbfb5c03a')\"\n",
              "              title=\"Convert this dataframe to an interactive table.\"\n",
              "              style=\"display:none;\">\n",
              "        \n",
              "  <svg xmlns=\"http://www.w3.org/2000/svg\" height=\"24px\"viewBox=\"0 0 24 24\"\n",
              "       width=\"24px\">\n",
              "    <path d=\"M0 0h24v24H0V0z\" fill=\"none\"/>\n",
              "    <path d=\"M18.56 5.44l.94 2.06.94-2.06 2.06-.94-2.06-.94-.94-2.06-.94 2.06-2.06.94zm-11 1L8.5 8.5l.94-2.06 2.06-.94-2.06-.94L8.5 2.5l-.94 2.06-2.06.94zm10 10l.94 2.06.94-2.06 2.06-.94-2.06-.94-.94-2.06-.94 2.06-2.06.94z\"/><path d=\"M17.41 7.96l-1.37-1.37c-.4-.4-.92-.59-1.43-.59-.52 0-1.04.2-1.43.59L10.3 9.45l-7.72 7.72c-.78.78-.78 2.05 0 2.83L4 21.41c.39.39.9.59 1.41.59.51 0 1.02-.2 1.41-.59l7.78-7.78 2.81-2.81c.8-.78.8-2.07 0-2.86zM5.41 20L4 18.59l7.72-7.72 1.47 1.35L5.41 20z\"/>\n",
              "  </svg>\n",
              "      </button>\n",
              "      \n",
              "  <style>\n",
              "    .colab-df-container {\n",
              "      display:flex;\n",
              "      flex-wrap:wrap;\n",
              "      gap: 12px;\n",
              "    }\n",
              "\n",
              "    .colab-df-convert {\n",
              "      background-color: #E8F0FE;\n",
              "      border: none;\n",
              "      border-radius: 50%;\n",
              "      cursor: pointer;\n",
              "      display: none;\n",
              "      fill: #1967D2;\n",
              "      height: 32px;\n",
              "      padding: 0 0 0 0;\n",
              "      width: 32px;\n",
              "    }\n",
              "\n",
              "    .colab-df-convert:hover {\n",
              "      background-color: #E2EBFA;\n",
              "      box-shadow: 0px 1px 2px rgba(60, 64, 67, 0.3), 0px 1px 3px 1px rgba(60, 64, 67, 0.15);\n",
              "      fill: #174EA6;\n",
              "    }\n",
              "\n",
              "    [theme=dark] .colab-df-convert {\n",
              "      background-color: #3B4455;\n",
              "      fill: #D2E3FC;\n",
              "    }\n",
              "\n",
              "    [theme=dark] .colab-df-convert:hover {\n",
              "      background-color: #434B5C;\n",
              "      box-shadow: 0px 1px 3px 1px rgba(0, 0, 0, 0.15);\n",
              "      filter: drop-shadow(0px 1px 2px rgba(0, 0, 0, 0.3));\n",
              "      fill: #FFFFFF;\n",
              "    }\n",
              "  </style>\n",
              "\n",
              "      <script>\n",
              "        const buttonEl =\n",
              "          document.querySelector('#df-acd1606c-dc60-456a-8ad7-cd2cbfb5c03a button.colab-df-convert');\n",
              "        buttonEl.style.display =\n",
              "          google.colab.kernel.accessAllowed ? 'block' : 'none';\n",
              "\n",
              "        async function convertToInteractive(key) {\n",
              "          const element = document.querySelector('#df-acd1606c-dc60-456a-8ad7-cd2cbfb5c03a');\n",
              "          const dataTable =\n",
              "            await google.colab.kernel.invokeFunction('convertToInteractive',\n",
              "                                                     [key], {});\n",
              "          if (!dataTable) return;\n",
              "\n",
              "          const docLinkHtml = 'Like what you see? Visit the ' +\n",
              "            '<a target=\"_blank\" href=https://colab.research.google.com/notebooks/data_table.ipynb>data table notebook</a>'\n",
              "            + ' to learn more about interactive tables.';\n",
              "          element.innerHTML = '';\n",
              "          dataTable['output_type'] = 'display_data';\n",
              "          await google.colab.output.renderOutput(dataTable, element);\n",
              "          const docLink = document.createElement('div');\n",
              "          docLink.innerHTML = docLinkHtml;\n",
              "          element.appendChild(docLink);\n",
              "        }\n",
              "      </script>\n",
              "    </div>\n",
              "  </div>\n",
              "  "
            ]
          },
          "metadata": {},
          "execution_count": 24
        }
      ]
    },
    {
      "cell_type": "code",
      "source": [
        "#random_state parameter  that is used to control the random shuffling of the data before the split.\n",
        "X_train, X_test, y_train, y_test = train_test_split(features,target,test_size = 0.2,stratify=labels,random_state =2)"
      ],
      "metadata": {
        "id": "8TX7y2mmaJ2A"
      },
      "execution_count": null,
      "outputs": []
    },
    {
      "cell_type": "code",
      "source": [
        "# scaler= StandardScaler()\n",
        "# X_train= scaler.fit_transform(X_train)\n",
        "# X_test= scaler.transform(X_test)"
      ],
      "metadata": {
        "id": "-aHtcF0oaMrR"
      },
      "execution_count": null,
      "outputs": []
    },
    {
      "cell_type": "code",
      "source": [
        "# Initialzing empty lists to append all model's name and corresponding name\n",
        "acc = []\n",
        "model = []"
      ],
      "metadata": {
        "id": "7TzVKY5eaPW1"
      },
      "execution_count": null,
      "outputs": []
    },
    {
      "cell_type": "code",
      "source": [
        "DecisionTree = DecisionTreeClassifier(criterion=\"gini\",splitter='best',random_state=2,max_depth=5)\n",
        "\n",
        "DecisionTree.fit(X_train, y_train)\n",
        "\n",
        "predicted_values = DecisionTree.predict(X_test)\n",
        "x = accuracy_score(y_test, predicted_values)\n",
        "acc.append(x)\n",
        "model.append('Decision Tree')\n",
        "print(\"DecisionTrees's Accuracy is: \", x*100)\n",
        "\n",
        "# print(classification_report(y_test,predicted_values))"
      ],
      "metadata": {
        "colab": {
          "base_uri": "https://localhost:8080/"
        },
        "id": "XxC5lNyRaRri",
        "outputId": "fe5598d0-92b2-4c9d-e65e-9c7134cf283d"
      },
      "execution_count": null,
      "outputs": [
        {
          "output_type": "stream",
          "name": "stdout",
          "text": [
            "DecisionTrees's Accuracy is:  90.41666666666667\n"
          ]
        }
      ]
    },
    {
      "cell_type": "code",
      "source": [
        "test_data=[6.831501,\t995.880320,\t2657.983736,\t23.219408]\n",
        "data = np.array([test_data])\n",
        "prediction = DecisionTree.predict(data)\n",
        "print(prediction)\n",
        "print(type(prediction))"
      ],
      "metadata": {
        "colab": {
          "base_uri": "https://localhost:8080/"
        },
        "id": "pIyEDGLkbAN-",
        "outputId": "701c02f3-e7e9-473d-88fa-d25a15d25cd0"
      },
      "execution_count": null,
      "outputs": [
        {
          "output_type": "stream",
          "name": "stdout",
          "text": [
            "['wheat']\n",
            "<class 'numpy.ndarray'>\n"
          ]
        }
      ]
    },
    {
      "cell_type": "code",
      "source": [
        "NaiveBayes = GaussianNB()\n",
        "\n",
        "NaiveBayes.fit(X_train,y_train)\n",
        "\n",
        "predicted_values = NaiveBayes.predict(X_test)\n",
        "x = accuracy_score(y_test, predicted_values)\n",
        "acc.append(x)\n",
        "model.append('Naive Bayes')\n",
        "print(\"Naive Bayes's Accuracy is: \", x)\n",
        "\n",
        "# print(classification_report(y_test,predicted_values))"
      ],
      "metadata": {
        "colab": {
          "base_uri": "https://localhost:8080/"
        },
        "id": "g8F_Wr-kbjQp",
        "outputId": "c090ac14-ced0-4dd4-9b26-020920211d2b"
      },
      "execution_count": null,
      "outputs": [
        {
          "output_type": "stream",
          "name": "stdout",
          "text": [
            "Naive Bayes's Accuracy is:  0.9083333333333333\n"
          ]
        }
      ]
    },
    {
      "cell_type": "code",
      "source": [
        "data = np.array([[5.188012,\t1144.933743,\t13.237375,\t2114.561160\t]])\n",
        "prediction = NaiveBayes.predict(data)\n",
        "print(prediction)"
      ],
      "metadata": {
        "colab": {
          "base_uri": "https://localhost:8080/"
        },
        "id": "QVPcNb_icuMB",
        "outputId": "12c850bc-a593-49ab-bd2a-1dfa9d4bfb53"
      },
      "execution_count": null,
      "outputs": [
        {
          "output_type": "stream",
          "name": "stdout",
          "text": [
            "['Bokolo']\n"
          ]
        }
      ]
    },
    {
      "cell_type": "code",
      "source": [
        "LR_model = LogisticRegression(random_state=2)\n",
        "LR_model.fit(X_train,y_train)\n",
        "\n",
        "predicted_lr_train = LR_model.predict(X_train)\n",
        "m3 = accuracy_score(y_train,predicted_lr_train)\n",
        "print('Traning Accuracy of Logistic Regression Model:',m3)\n",
        "\n",
        "# Testing accuracy\n",
        "predicted_lr_test = LR_model.predict(X_test)\n",
        "m4 = accuracy_score(y_test,predicted_lr_test)\n",
        "print('Testing Accuracy of Logistic Regression Model:',m4)\n",
        "print(LR_model.score(X_test,y_test))"
      ],
      "metadata": {
        "colab": {
          "base_uri": "https://localhost:8080/"
        },
        "id": "m9oN0HLIc3rB",
        "outputId": "9fecf571-9f89-4d8d-f566-be36ed6aa611"
      },
      "execution_count": null,
      "outputs": [
        {
          "output_type": "stream",
          "name": "stdout",
          "text": [
            "Traning Accuracy of Logistic Regression Model: 0.6788321167883211\n",
            "Testing Accuracy of Logistic Regression Model: 0.65\n",
            "0.65\n"
          ]
        }
      ]
    },
    {
      "cell_type": "code",
      "source": [
        "data = np.array([[5.188012,\t1144.933743,\t13.237375,\t2114.561160\t]])\n",
        "prediction = LR_model.predict(data)\n",
        "print(prediction)"
      ],
      "metadata": {
        "colab": {
          "base_uri": "https://localhost:8080/"
        },
        "id": "QRQGSZ88c7mf",
        "outputId": "fad7a497-3ae6-4f8e-c065-1a1a97b6e7f2"
      },
      "execution_count": null,
      "outputs": [
        {
          "output_type": "stream",
          "name": "stdout",
          "text": [
            "['Bokolo']\n"
          ]
        }
      ]
    },
    {
      "cell_type": "code",
      "source": [
        "classifier= KNeighborsClassifier(n_neighbors=5, metric='minkowski', p=2 )\n",
        "classifier.fit(X_train, y_train)\n",
        "#Predicting the test set result\n",
        "y_pred= classifier.predict(X_test)\n",
        "accuracy=accuracy_score(y_test, y_pred)\n",
        "print('accuracy===>',accuracy)\n",
        "\n",
        "#prediction\n",
        "data = np.array([[5.188012,\t1144.933743,\t13.237375,\t2114.561160\t]])\n",
        "prediction = classifier.predict(data)\n",
        "print('predicted value==>',prediction)\n"
      ],
      "metadata": {
        "colab": {
          "base_uri": "https://localhost:8080/"
        },
        "id": "6pjf7nKIc_GU",
        "outputId": "a65ba9d4-b267-4fad-d7f6-781f77de71f7"
      },
      "execution_count": null,
      "outputs": [
        {
          "output_type": "stream",
          "name": "stdout",
          "text": [
            "accuracy===> 0.6708333333333333\n",
            "predicted value==> ['Bokolo']\n"
          ]
        }
      ]
    },
    {
      "cell_type": "code",
      "source": [
        "def kfold(model,X,y,cv):\n",
        "  return cross_val_score(model,X,y,cv=cv)\n"
      ],
      "metadata": {
        "id": "8tGrJ-dcdB8q"
      },
      "execution_count": null,
      "outputs": []
    },
    {
      "cell_type": "code",
      "source": [
        "from sklearn.model_selection import ShuffleSplit\n",
        "\n",
        "\n",
        "cv = ShuffleSplit(n_splits=5, test_size=0.2, random_state=0)\n",
        "\n",
        "\n",
        "print(kfold(LogisticRegression(), features, target, cv=cv))\n",
        "print(kfold(RandomForestClassifier(), features, target, cv=cv))\n",
        "print(kfold(SVC(), features, target, cv=cv))"
      ],
      "metadata": {
        "colab": {
          "base_uri": "https://localhost:8080/"
        },
        "id": "2jBz0P6rdF2S",
        "outputId": "4cefcf4a-c574-488a-b2cd-cb1a19606858"
      },
      "execution_count": null,
      "outputs": [
        {
          "output_type": "stream",
          "name": "stdout",
          "text": [
            "[0.66666667 0.65       0.6875     0.6625     0.6875    ]\n",
            "[0.96666667 0.95       0.96666667 0.94583333 0.95      ]\n",
            "[0.55       0.61666667 0.56666667 0.55416667 0.5875    ]\n"
          ]
        }
      ]
    },
    {
      "cell_type": "code",
      "source": [
        "def get_score(model, X_train, X_test, y_train, y_test):\n",
        "    model.fit(X_train, y_train)\n",
        "    return model.score(X_test, y_test)\n",
        "    # return model.score(X_train, y_train)"
      ],
      "metadata": {
        "id": "psl3QWzAdHzp"
      },
      "execution_count": null,
      "outputs": []
    },
    {
      "cell_type": "code",
      "source": [
        "folds = StratifiedKFold(n_splits=5)\n",
        "\n",
        "scores_logistic = []\n",
        "scores_svm = []\n",
        "scores_rf = []\n",
        "for train_index, test_index in folds.split(features,target):\n",
        "    #X_train, X_test, y_train, y_test = X[train_index], X[test_index],y[train_index], y[test_index]\n",
        "    X_train, X_test = features.iloc[train_index], features.iloc[test_index]\n",
        "    y_train, y_test = target.iloc[train_index], target.iloc[test_index]\n",
        "    scores_logistic.append(get_score(LogisticRegression(solver='liblinear',multi_class='ovr'), X_train, X_test, y_train, y_test))\n",
        "    scores_svm.append(get_score(SVC(gamma='scale',kernel='rbf',C=30.0 ), X_train, X_test, y_train, y_test))\n",
        "    scores_rf.append(get_score(RandomForestClassifier(n_estimators=40), X_train, X_test, y_train, y_test))"
      ],
      "metadata": {
        "id": "VSvlh6DkdN9h"
      },
      "execution_count": null,
      "outputs": []
    },
    {
      "cell_type": "code",
      "source": [
        "print(scores_rf,'\\navarage is:'+str(np.average(scores_rf)))"
      ],
      "metadata": {
        "colab": {
          "base_uri": "https://localhost:8080/"
        },
        "id": "TLU1sUNxdP8K",
        "outputId": "b97498db-1c6a-4b6d-9470-1a3a2f9917a1"
      },
      "execution_count": null,
      "outputs": [
        {
          "output_type": "stream",
          "name": "stdout",
          "text": [
            "[0.95, 0.9541666666666667, 0.9583333333333334, 0.9541666666666667, 0.9372384937238494] \n",
            "avarage is:0.9507810320781033\n"
          ]
        }
      ]
    },
    {
      "cell_type": "code",
      "source": [
        "scores_svm,np.average(scores_svm)"
      ],
      "metadata": {
        "colab": {
          "base_uri": "https://localhost:8080/"
        },
        "id": "mA-E5YiTdSaP",
        "outputId": "c9d74351-9649-4acf-819f-2b34f73a4e3d"
      },
      "execution_count": null,
      "outputs": [
        {
          "output_type": "execute_result",
          "data": {
            "text/plain": [
              "([0.6583333333333333, 0.6375, 0.6541666666666667, 0.725, 0.6820083682008368],\n",
              " 0.6714016736401673)"
            ]
          },
          "metadata": {},
          "execution_count": 42
        }
      ]
    },
    {
      "cell_type": "code",
      "source": [
        "from sklearn.model_selection import GridSearchCV\n",
        "def find_best_model_using_gridsearchcv(X,y):\n",
        "    algos = {\n",
        "        'logistic_regression' : {\n",
        "        'model': LogisticRegression(solver='liblinear',multi_class='auto'),\n",
        "        'params': {\n",
        "            'C': [1,5,10]\n",
        "        }\n",
        "    },\n",
        "          'svm': {\n",
        "            'model': SVC(),\n",
        "            'params': {\n",
        "                'C': [1,5,10,20,40],\n",
        "                'kernel': ['rbf', 'linear'],\n",
        "                'gamma':['scale','auto']\n",
        "            }\n",
        "        },\n",
        "        'random_forest': {\n",
        "        'model': RandomForestClassifier(),\n",
        "        'params' : {\n",
        "            'n_estimators': [1,5,10,40]\n",
        "        }\n",
        "    },\n",
        "    'decision_tree': {\n",
        "            'model': DecisionTreeClassifier(),\n",
        "            'params': {\n",
        "                'criterion' : ['gini', 'log_loss', 'entropy'],\n",
        "                'splitter': ['best','random']\n",
        "            }\n",
        "        },\n",
        "    'naive_bayes_gaussian': {\n",
        "        'model': GaussianNB(),\n",
        "        'params': {}\n",
        "    },\n",
        "    'naive_bayes_multinomial': {\n",
        "        'model': MultinomialNB(),\n",
        "        'params': {}\n",
        "    },\n",
        "    }\n",
        "    scores = []\n",
        "    cv = ShuffleSplit(n_splits=5, test_size=0.2, random_state=0)\n",
        "    for algo_name, config in algos.items():\n",
        "        gs =  GridSearchCV(config['model'], config['params'], cv=cv, return_train_score=False)\n",
        "        gs.fit(X,y)\n",
        "        scores.append({\n",
        "            'model': algo_name,\n",
        "            'best_score': gs.best_score_,\n",
        "            'best_params': gs.best_params_,\n",
        "        })\n",
        "\n",
        "    return pd.DataFrame(scores,columns=['model','best_score','best_params'])\n",
        "\n",
        "find_best_model_using_gridsearchcv(features,target)"
      ],
      "metadata": {
        "colab": {
          "base_uri": "https://localhost:8080/",
          "height": 238
        },
        "id": "seG0M84gdW_v",
        "outputId": "94284d28-d262-41d2-f7e6-3027b084b68d"
      },
      "execution_count": null,
      "outputs": [
        {
          "output_type": "execute_result",
          "data": {
            "text/plain": [
              "                     model  best_score  \\\n",
              "0      logistic_regression    0.759167   \n",
              "1                      svm    0.820833   \n",
              "2            random_forest    0.955833   \n",
              "3            decision_tree    0.935000   \n",
              "4     naive_bayes_gaussian    0.920000   \n",
              "5  naive_bayes_multinomial    0.555000   \n",
              "\n",
              "                                      best_params  \n",
              "0                                       {'C': 10}  \n",
              "1  {'C': 1, 'gamma': 'scale', 'kernel': 'linear'}  \n",
              "2                            {'n_estimators': 40}  \n",
              "3    {'criterion': 'entropy', 'splitter': 'best'}  \n",
              "4                                              {}  \n",
              "5                                              {}  "
            ],
            "text/html": [
              "\n",
              "  <div id=\"df-698b5278-ef77-431d-95da-b09bf31ce2c9\">\n",
              "    <div class=\"colab-df-container\">\n",
              "      <div>\n",
              "<style scoped>\n",
              "    .dataframe tbody tr th:only-of-type {\n",
              "        vertical-align: middle;\n",
              "    }\n",
              "\n",
              "    .dataframe tbody tr th {\n",
              "        vertical-align: top;\n",
              "    }\n",
              "\n",
              "    .dataframe thead th {\n",
              "        text-align: right;\n",
              "    }\n",
              "</style>\n",
              "<table border=\"1\" class=\"dataframe\">\n",
              "  <thead>\n",
              "    <tr style=\"text-align: right;\">\n",
              "      <th></th>\n",
              "      <th>model</th>\n",
              "      <th>best_score</th>\n",
              "      <th>best_params</th>\n",
              "    </tr>\n",
              "  </thead>\n",
              "  <tbody>\n",
              "    <tr>\n",
              "      <th>0</th>\n",
              "      <td>logistic_regression</td>\n",
              "      <td>0.759167</td>\n",
              "      <td>{'C': 10}</td>\n",
              "    </tr>\n",
              "    <tr>\n",
              "      <th>1</th>\n",
              "      <td>svm</td>\n",
              "      <td>0.820833</td>\n",
              "      <td>{'C': 1, 'gamma': 'scale', 'kernel': 'linear'}</td>\n",
              "    </tr>\n",
              "    <tr>\n",
              "      <th>2</th>\n",
              "      <td>random_forest</td>\n",
              "      <td>0.955833</td>\n",
              "      <td>{'n_estimators': 40}</td>\n",
              "    </tr>\n",
              "    <tr>\n",
              "      <th>3</th>\n",
              "      <td>decision_tree</td>\n",
              "      <td>0.935000</td>\n",
              "      <td>{'criterion': 'entropy', 'splitter': 'best'}</td>\n",
              "    </tr>\n",
              "    <tr>\n",
              "      <th>4</th>\n",
              "      <td>naive_bayes_gaussian</td>\n",
              "      <td>0.920000</td>\n",
              "      <td>{}</td>\n",
              "    </tr>\n",
              "    <tr>\n",
              "      <th>5</th>\n",
              "      <td>naive_bayes_multinomial</td>\n",
              "      <td>0.555000</td>\n",
              "      <td>{}</td>\n",
              "    </tr>\n",
              "  </tbody>\n",
              "</table>\n",
              "</div>\n",
              "      <button class=\"colab-df-convert\" onclick=\"convertToInteractive('df-698b5278-ef77-431d-95da-b09bf31ce2c9')\"\n",
              "              title=\"Convert this dataframe to an interactive table.\"\n",
              "              style=\"display:none;\">\n",
              "        \n",
              "  <svg xmlns=\"http://www.w3.org/2000/svg\" height=\"24px\"viewBox=\"0 0 24 24\"\n",
              "       width=\"24px\">\n",
              "    <path d=\"M0 0h24v24H0V0z\" fill=\"none\"/>\n",
              "    <path d=\"M18.56 5.44l.94 2.06.94-2.06 2.06-.94-2.06-.94-.94-2.06-.94 2.06-2.06.94zm-11 1L8.5 8.5l.94-2.06 2.06-.94-2.06-.94L8.5 2.5l-.94 2.06-2.06.94zm10 10l.94 2.06.94-2.06 2.06-.94-2.06-.94-.94-2.06-.94 2.06-2.06.94z\"/><path d=\"M17.41 7.96l-1.37-1.37c-.4-.4-.92-.59-1.43-.59-.52 0-1.04.2-1.43.59L10.3 9.45l-7.72 7.72c-.78.78-.78 2.05 0 2.83L4 21.41c.39.39.9.59 1.41.59.51 0 1.02-.2 1.41-.59l7.78-7.78 2.81-2.81c.8-.78.8-2.07 0-2.86zM5.41 20L4 18.59l7.72-7.72 1.47 1.35L5.41 20z\"/>\n",
              "  </svg>\n",
              "      </button>\n",
              "      \n",
              "  <style>\n",
              "    .colab-df-container {\n",
              "      display:flex;\n",
              "      flex-wrap:wrap;\n",
              "      gap: 12px;\n",
              "    }\n",
              "\n",
              "    .colab-df-convert {\n",
              "      background-color: #E8F0FE;\n",
              "      border: none;\n",
              "      border-radius: 50%;\n",
              "      cursor: pointer;\n",
              "      display: none;\n",
              "      fill: #1967D2;\n",
              "      height: 32px;\n",
              "      padding: 0 0 0 0;\n",
              "      width: 32px;\n",
              "    }\n",
              "\n",
              "    .colab-df-convert:hover {\n",
              "      background-color: #E2EBFA;\n",
              "      box-shadow: 0px 1px 2px rgba(60, 64, 67, 0.3), 0px 1px 3px 1px rgba(60, 64, 67, 0.15);\n",
              "      fill: #174EA6;\n",
              "    }\n",
              "\n",
              "    [theme=dark] .colab-df-convert {\n",
              "      background-color: #3B4455;\n",
              "      fill: #D2E3FC;\n",
              "    }\n",
              "\n",
              "    [theme=dark] .colab-df-convert:hover {\n",
              "      background-color: #434B5C;\n",
              "      box-shadow: 0px 1px 3px 1px rgba(0, 0, 0, 0.15);\n",
              "      filter: drop-shadow(0px 1px 2px rgba(0, 0, 0, 0.3));\n",
              "      fill: #FFFFFF;\n",
              "    }\n",
              "  </style>\n",
              "\n",
              "      <script>\n",
              "        const buttonEl =\n",
              "          document.querySelector('#df-698b5278-ef77-431d-95da-b09bf31ce2c9 button.colab-df-convert');\n",
              "        buttonEl.style.display =\n",
              "          google.colab.kernel.accessAllowed ? 'block' : 'none';\n",
              "\n",
              "        async function convertToInteractive(key) {\n",
              "          const element = document.querySelector('#df-698b5278-ef77-431d-95da-b09bf31ce2c9');\n",
              "          const dataTable =\n",
              "            await google.colab.kernel.invokeFunction('convertToInteractive',\n",
              "                                                     [key], {});\n",
              "          if (!dataTable) return;\n",
              "\n",
              "          const docLinkHtml = 'Like what you see? Visit the ' +\n",
              "            '<a target=\"_blank\" href=https://colab.research.google.com/notebooks/data_table.ipynb>data table notebook</a>'\n",
              "            + ' to learn more about interactive tables.';\n",
              "          element.innerHTML = '';\n",
              "          dataTable['output_type'] = 'display_data';\n",
              "          await google.colab.output.renderOutput(dataTable, element);\n",
              "          const docLink = document.createElement('div');\n",
              "          docLink.innerHTML = docLinkHtml;\n",
              "          element.appendChild(docLink);\n",
              "        }\n",
              "      </script>\n",
              "    </div>\n",
              "  </div>\n",
              "  "
            ]
          },
          "metadata": {},
          "execution_count": 43
        }
      ]
    },
    {
      "cell_type": "code",
      "source": [
        "rf_model=RandomForestClassifier(n_estimators=40,random_state=3).fit(X_train,y_train)\n",
        "predicted=rf_model.predict(X_test)\n",
        "score=accuracy_score(y_test,predicted)\n",
        "score1=rf_model.score(X_test,y_test)\n",
        "print('accuracy_score',score)\n",
        "print('score:',score1)"
      ],
      "metadata": {
        "colab": {
          "base_uri": "https://localhost:8080/"
        },
        "id": "gMd2rGJqdmxf",
        "outputId": "f5ffe440-db78-4bfe-8a88-9246bea1721c"
      },
      "execution_count": null,
      "outputs": [
        {
          "output_type": "stream",
          "name": "stdout",
          "text": [
            "accuracy_score 0.9414225941422594\n",
            "score: 0.9414225941422594\n"
          ]
        }
      ]
    },
    {
      "cell_type": "code",
      "source": [
        "import pickle\n",
        "# Dump the trained Naive Bayes classifier with Pickle\n",
        "rf_pkl_filename = '/content/drive/MyDrive/final year project/myModel_04.pkl'\n",
        "# Open the file to save as pkl file\n",
        "rf_Model_pkl = open(rf_pkl_filename, 'wb')\n",
        "pickle.dump(rf_model, rf_Model_pkl)\n",
        "# Close the pickle instances\n",
        "rf_Model_pkl.close()"
      ],
      "metadata": {
        "id": "YOdnEUdpgtM0"
      },
      "execution_count": null,
      "outputs": []
    },
    {
      "cell_type": "code",
      "source": [],
      "metadata": {
        "id": "lT_E97QSjFED"
      },
      "execution_count": null,
      "outputs": []
    }
  ]
}